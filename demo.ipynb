{
 "cells": [
  {
   "cell_type": "markdown",
   "id": "ced24d22",
   "metadata": {},
   "source": [
    "# Backend.AI 체험하기\n",
    "### pytorch version (Custom)\n",
    "DATASET : FashionMNIST\n",
    "MODEL : LeNET\n",
    "\n",
    "### Improve performance\n",
    "1. Change Hyper Parameters\n",
    "2. Change Model DNN -> CNN (use GPU in Backend.AI cloud)"
   ]
  },
  {
   "cell_type": "code",
   "execution_count": 42,
   "id": "37684062",
   "metadata": {},
   "outputs": [],
   "source": [
    "import numpy as np\n",
    "import torch\n",
    "from torchvision import datasets, transforms\n",
    "import torch.nn as nn\n",
    "import torch.nn.functional as F\n",
    "import torch.optim as optim\n",
    "from tqdm import tqdm\n",
    "\n",
    "config = {\n",
    "    'batch_size' : 64,\n",
    "    'lr':0.001,\n",
    "    'n_classes' : 10,\n",
    "    'epochs':20,\n",
    "    'mean':0.5, \n",
    "    'std':0.5,\n",
    "    'device': 'cuda:0' if torch.cuda.is_available() else 'cpu'\n",
    "}"
   ]
  },
  {
   "cell_type": "code",
   "execution_count": 43,
   "id": "e0a58c9c",
   "metadata": {},
   "outputs": [],
   "source": [
    "\n",
    "'''\n",
    "# 간단한 transform 정의\n",
    "'''\n",
    "transform = transforms.Compose([transforms.ToTensor(),\n",
    "                                transforms.Normalize((config['mean']), (config['std']))])\n",
    "\n",
    "\n",
    "'''\n",
    "# dataset & dataLoader\n",
    "'''\n",
    "trainset = datasets.FashionMNIST('.', download=True, train=True, transform=transform)\n",
    "trainloader = torch.utils.data.DataLoader(trainset, batch_size=config['batch_size'], shuffle=True)\n",
    "\n",
    "\n",
    "testset = datasets.FashionMNIST('.', download=True, train=False, transform=transform)\n",
    "testloader = torch.utils.data.DataLoader(testset, batch_size=config['batch_size'], shuffle=False)"
   ]
  },
  {
   "cell_type": "code",
   "execution_count": 44,
   "id": "9c644caf",
   "metadata": {},
   "outputs": [
    {
     "name": "stdout",
     "output_type": "stream",
     "text": [
      "{9: 6000, 0: 6000, 3: 6000, 2: 6000, 7: 6000, 5: 6000, 1: 6000, 6: 6000, 4: 6000, 8: 6000}\n"
     ]
    },
    {
     "data": {
      "text/plain": [
       "10"
      ]
     },
     "execution_count": 44,
     "metadata": {},
     "output_type": "execute_result"
    }
   ],
   "source": [
    "'''\n",
    "# class balance 조사\n",
    "\n",
    "balance good!!\n",
    "\n",
    "'''\n",
    "class_dict = {}\n",
    "for _class in trainset.targets:\n",
    "    _class = _class.item()\n",
    "    if _class not in class_dict:\n",
    "        class_dict[_class]=0\n",
    "    class_dict[_class]+=1\n",
    "print(class_dict)\n",
    "config['n_classes'] = len(class_dict.keys())\n",
    "config['n_classes']"
   ]
  },
  {
   "cell_type": "code",
   "execution_count": 45,
   "id": "cf9fdd29",
   "metadata": {},
   "outputs": [],
   "source": [
    "'''\n",
    "MODEL 정의\n",
    "tensorflow 예제에서는 단순 DNN이였다면 \n",
    "퍼포먼스 향상을 위해 CNN(LeNet)으로 change\n",
    "'''\n",
    "import torch.nn as nn\n",
    "import torch.nn.functional as F\n",
    "\n",
    "class CNN(nn.Module):\n",
    "    def __init__(self, n_classes = 1):\n",
    "        super(CNN, self).__init__()\n",
    "        self.conv1 = nn.Conv2d(1,6,kernel_size = 1) # 28 x 28 이므로 5->1로 변경\n",
    "        self.conv2 = nn.Conv2d(6,16,kernel_size = 5)\n",
    "        self.conv3 = nn.Conv2d(16,120,kernel_size = 5)\n",
    "        self.fc1 = nn.Linear(120, 84)\n",
    "        self.fc2 = nn.Linear(84, n_classes)\n",
    "        self.pool = nn.MaxPool2d(kernel_size = 2, stride =2)\n",
    "        \n",
    "    def forward(self, x): # tanh -> relu\n",
    "        x = F.relu(self.conv1(x))\n",
    "        x = self.pool(x)\n",
    "        x = F.relu(self.conv2(x))\n",
    "        x = self.pool(x)\n",
    "        x = F.relu(self.conv3(x))\n",
    "        x = x.view(-1,120)\n",
    "        x = F.relu(self.fc1(x))\n",
    "        x = self.fc2(x)\n",
    "        return x\n",
    "\n",
    "class DNN(nn.Module):\n",
    "    def __init__(self, n_classes = 1):\n",
    "        super(DNN, self).__init__()\n",
    "        self.fc1 = nn.Linear(28*28,128)\n",
    "        self.fc2 = nn.Linear(128, 10)\n",
    "    \n",
    "    def forward(self, x):\n",
    "        x = x.view(-1,28*28)\n",
    "        x = F.relu(self.fc1(x))\n",
    "        x = self.fc2(x)\n",
    "        return x"
   ]
  },
  {
   "cell_type": "code",
   "execution_count": 46,
   "id": "0035a4c1",
   "metadata": {},
   "outputs": [],
   "source": [
    "'''\n",
    "train, valdation function\n",
    "'''\n",
    "def train(model, dataloader, criterion, optimizer, device):\n",
    "    running_loss = 0\n",
    "    for images, labels in tqdm(dataloader, position=0, leave=True):\n",
    "        images = images.to(device)\n",
    "        labels = labels.to(device)\n",
    "        outputs = model(images)\n",
    "        loss = criterion(outputs, labels)\n",
    "        \n",
    "        optimizer.zero_grad()\n",
    "        loss.backward()\n",
    "        optimizer.step()\n",
    "        \n",
    "        running_loss += loss.item()\n",
    "    running_loss /= len(dataloader)\n",
    "    return running_loss\n",
    "\n",
    "def validation(model, dataloader, criterion, device):\n",
    "    running_loss = 0\n",
    "    preds = []\n",
    "    targets = []\n",
    "    for images, labels in tqdm(dataloader, position=0, leave=True):\n",
    "        with torch.no_grad():\n",
    "            images = images.to(device)\n",
    "            labels = labels.to(device)\n",
    "            outputs = model(images)\n",
    "            loss = criterion(outputs, labels)\n",
    "        \n",
    "        preds += torch.argmax(outputs,1).tolist()\n",
    "        targets += labels.tolist()\n",
    "        running_loss += loss.item()\n",
    "    preds = np.array(preds)\n",
    "    targets = np.array(targets)\n",
    "    score = (preds == targets).sum() / len(preds)\n",
    "    running_loss /= len(dataloader)\n",
    "    return running_loss, score"
   ]
  },
  {
   "cell_type": "code",
   "execution_count": 47,
   "id": "2c71389f",
   "metadata": {
    "scrolled": true
   },
   "outputs": [
    {
     "name": "stderr",
     "output_type": "stream",
     "text": [
      "100%|██████████| 938/938 [00:09<00:00, 96.38it/s] \n",
      "100%|██████████| 157/157 [00:01<00:00, 122.95it/s]\n",
      "  1%|          | 11/938 [00:00<00:08, 103.89it/s]"
     ]
    },
    {
     "name": "stdout",
     "output_type": "stream",
     "text": [
      "train_loss : 0.6861 \t test_loss : 0.5520 \t score : 0.792\n"
     ]
    },
    {
     "name": "stderr",
     "output_type": "stream",
     "text": [
      "100%|██████████| 938/938 [00:09<00:00, 96.64it/s] \n",
      "100%|██████████| 157/157 [00:01<00:00, 116.70it/s]\n",
      "  1%|          | 11/938 [00:00<00:09, 100.32it/s]"
     ]
    },
    {
     "name": "stdout",
     "output_type": "stream",
     "text": [
      "train_loss : 0.4511 \t test_loss : 0.4154 \t score : 0.849\n"
     ]
    },
    {
     "name": "stderr",
     "output_type": "stream",
     "text": [
      "100%|██████████| 938/938 [00:09<00:00, 94.84it/s]\n",
      "100%|██████████| 157/157 [00:01<00:00, 120.51it/s]\n",
      "  1%|          | 9/938 [00:00<00:11, 81.83it/s]"
     ]
    },
    {
     "name": "stdout",
     "output_type": "stream",
     "text": [
      "train_loss : 0.3771 \t test_loss : 0.3701 \t score : 0.868\n"
     ]
    },
    {
     "name": "stderr",
     "output_type": "stream",
     "text": [
      "100%|██████████| 938/938 [00:09<00:00, 96.34it/s] \n",
      "100%|██████████| 157/157 [00:01<00:00, 116.38it/s]\n",
      "  1%|          | 10/938 [00:00<00:09, 96.58it/s]"
     ]
    },
    {
     "name": "stdout",
     "output_type": "stream",
     "text": [
      "train_loss : 0.3433 \t test_loss : 0.3583 \t score : 0.868\n"
     ]
    },
    {
     "name": "stderr",
     "output_type": "stream",
     "text": [
      "100%|██████████| 938/938 [00:09<00:00, 95.30it/s] \n",
      "100%|██████████| 157/157 [00:01<00:00, 117.96it/s]\n",
      "  1%|          | 10/938 [00:00<00:09, 98.94it/s]"
     ]
    },
    {
     "name": "stdout",
     "output_type": "stream",
     "text": [
      "train_loss : 0.3180 \t test_loss : 0.3491 \t score : 0.874\n"
     ]
    },
    {
     "name": "stderr",
     "output_type": "stream",
     "text": [
      "100%|██████████| 938/938 [00:09<00:00, 95.76it/s] \n",
      "100%|██████████| 157/157 [00:01<00:00, 120.37it/s]\n",
      "  1%|          | 9/938 [00:00<00:11, 83.48it/s]"
     ]
    },
    {
     "name": "stdout",
     "output_type": "stream",
     "text": [
      "train_loss : 0.3012 \t test_loss : 0.3199 \t score : 0.882\n"
     ]
    },
    {
     "name": "stderr",
     "output_type": "stream",
     "text": [
      "100%|██████████| 938/938 [00:09<00:00, 97.05it/s] \n",
      "100%|██████████| 157/157 [00:01<00:00, 120.85it/s]\n",
      "  1%|          | 9/938 [00:00<00:10, 87.75it/s]"
     ]
    },
    {
     "name": "stdout",
     "output_type": "stream",
     "text": [
      "train_loss : 0.2889 \t test_loss : 0.3618 \t score : 0.867\n"
     ]
    },
    {
     "name": "stderr",
     "output_type": "stream",
     "text": [
      "100%|██████████| 938/938 [00:09<00:00, 97.47it/s] \n",
      "100%|██████████| 157/157 [00:01<00:00, 117.32it/s]\n",
      "  1%|          | 10/938 [00:00<00:09, 96.70it/s]"
     ]
    },
    {
     "name": "stdout",
     "output_type": "stream",
     "text": [
      "train_loss : 0.2768 \t test_loss : 0.3078 \t score : 0.889\n"
     ]
    },
    {
     "name": "stderr",
     "output_type": "stream",
     "text": [
      "100%|██████████| 938/938 [00:09<00:00, 96.44it/s] \n",
      "100%|██████████| 157/157 [00:01<00:00, 118.63it/s]\n",
      "  1%|          | 10/938 [00:00<00:09, 99.35it/s]"
     ]
    },
    {
     "name": "stdout",
     "output_type": "stream",
     "text": [
      "train_loss : 0.2661 \t test_loss : 0.3019 \t score : 0.891\n"
     ]
    },
    {
     "name": "stderr",
     "output_type": "stream",
     "text": [
      "100%|██████████| 938/938 [00:09<00:00, 95.13it/s] \n",
      "100%|██████████| 157/157 [00:01<00:00, 122.24it/s]\n",
      "  1%|          | 10/938 [00:00<00:09, 95.51it/s]"
     ]
    },
    {
     "name": "stdout",
     "output_type": "stream",
     "text": [
      "train_loss : 0.2563 \t test_loss : 0.3080 \t score : 0.893\n"
     ]
    },
    {
     "name": "stderr",
     "output_type": "stream",
     "text": [
      "100%|██████████| 938/938 [00:09<00:00, 97.98it/s] \n",
      "100%|██████████| 157/157 [00:01<00:00, 121.11it/s]\n",
      "  1%|          | 9/938 [00:00<00:10, 87.40it/s]"
     ]
    },
    {
     "name": "stdout",
     "output_type": "stream",
     "text": [
      "train_loss : 0.2483 \t test_loss : 0.3072 \t score : 0.890\n"
     ]
    },
    {
     "name": "stderr",
     "output_type": "stream",
     "text": [
      "100%|██████████| 938/938 [00:09<00:00, 98.55it/s] \n",
      "100%|██████████| 157/157 [00:01<00:00, 122.16it/s]\n",
      "  1%|          | 10/938 [00:00<00:10, 92.54it/s]"
     ]
    },
    {
     "name": "stdout",
     "output_type": "stream",
     "text": [
      "train_loss : 0.2410 \t test_loss : 0.3138 \t score : 0.887\n"
     ]
    },
    {
     "name": "stderr",
     "output_type": "stream",
     "text": [
      "100%|██████████| 938/938 [00:09<00:00, 97.25it/s] \n",
      "100%|██████████| 157/157 [00:01<00:00, 118.96it/s]\n",
      "  1%|          | 10/938 [00:00<00:09, 99.63it/s]"
     ]
    },
    {
     "name": "stdout",
     "output_type": "stream",
     "text": [
      "train_loss : 0.2326 \t test_loss : 0.3022 \t score : 0.894\n"
     ]
    },
    {
     "name": "stderr",
     "output_type": "stream",
     "text": [
      "100%|██████████| 938/938 [00:09<00:00, 97.46it/s] \n",
      "100%|██████████| 157/157 [00:01<00:00, 118.49it/s]\n",
      "  1%|          | 11/938 [00:00<00:08, 106.36it/s]"
     ]
    },
    {
     "name": "stdout",
     "output_type": "stream",
     "text": [
      "train_loss : 0.2255 \t test_loss : 0.2991 \t score : 0.893\n"
     ]
    },
    {
     "name": "stderr",
     "output_type": "stream",
     "text": [
      "100%|██████████| 938/938 [00:09<00:00, 96.31it/s] \n",
      "100%|██████████| 157/157 [00:01<00:00, 117.71it/s]\n",
      "  1%|          | 11/938 [00:00<00:08, 104.96it/s]"
     ]
    },
    {
     "name": "stdout",
     "output_type": "stream",
     "text": [
      "train_loss : 0.2188 \t test_loss : 0.3075 \t score : 0.893\n"
     ]
    },
    {
     "name": "stderr",
     "output_type": "stream",
     "text": [
      "100%|██████████| 938/938 [00:09<00:00, 99.05it/s] \n",
      "100%|██████████| 157/157 [00:01<00:00, 122.51it/s]\n",
      "  1%|          | 10/938 [00:00<00:10, 91.14it/s]"
     ]
    },
    {
     "name": "stdout",
     "output_type": "stream",
     "text": [
      "train_loss : 0.2113 \t test_loss : 0.3035 \t score : 0.897\n"
     ]
    },
    {
     "name": "stderr",
     "output_type": "stream",
     "text": [
      "100%|██████████| 938/938 [00:09<00:00, 99.03it/s] \n",
      "100%|██████████| 157/157 [00:01<00:00, 119.51it/s]\n",
      "  1%|          | 10/938 [00:00<00:09, 96.66it/s]"
     ]
    },
    {
     "name": "stdout",
     "output_type": "stream",
     "text": [
      "train_loss : 0.2063 \t test_loss : 0.3174 \t score : 0.894\n"
     ]
    },
    {
     "name": "stderr",
     "output_type": "stream",
     "text": [
      "100%|██████████| 938/938 [00:09<00:00, 99.63it/s] \n",
      "100%|██████████| 157/157 [00:01<00:00, 122.60it/s]\n",
      "  1%|          | 11/938 [00:00<00:08, 107.87it/s]"
     ]
    },
    {
     "name": "stdout",
     "output_type": "stream",
     "text": [
      "train_loss : 0.2018 \t test_loss : 0.3077 \t score : 0.895\n"
     ]
    },
    {
     "name": "stderr",
     "output_type": "stream",
     "text": [
      "100%|██████████| 938/938 [00:09<00:00, 96.40it/s] \n",
      "100%|██████████| 157/157 [00:01<00:00, 118.78it/s]"
     ]
    },
    {
     "name": "stdout",
     "output_type": "stream",
     "text": [
      "train_loss : 0.1955 \t test_loss : 0.3122 \t score : 0.895\n",
      "Accuracy Score : 0.895\n"
     ]
    },
    {
     "name": "stderr",
     "output_type": "stream",
     "text": [
      "\n"
     ]
    }
   ],
   "source": [
    "'''\n",
    "CNN 실험해보기\n",
    "'''\n",
    "device = config['device']\n",
    "model = CNN(config['n_classes']).to(device)\n",
    "criterion = nn.CrossEntropyLoss()\n",
    "optimizer = optim.Adam(model.parameters(), lr = config['lr'])\n",
    "epochs = config['epochs']\n",
    "\n",
    "\n",
    "for epoch in range(1, epochs):\n",
    "    t_loss = train(model, trainloader, criterion, optimizer, device)\n",
    "    v_loss, score = validation(model, testloader, criterion, device)\n",
    "    print('train_loss : {:.4f} \\t test_loss : {:.4f} \\t score : {:.3f}'.format(t_loss, v_loss, score))\n",
    "print(\"Accuracy Score : {}\".format(score))"
   ]
  },
  {
   "cell_type": "code",
   "execution_count": 48,
   "id": "5eff08f6",
   "metadata": {},
   "outputs": [
    {
     "name": "stderr",
     "output_type": "stream",
     "text": [
      "100%|██████████| 938/938 [00:08<00:00, 115.02it/s]\n",
      "100%|██████████| 157/157 [00:01<00:00, 129.15it/s]\n",
      "  1%|          | 11/938 [00:00<00:08, 109.26it/s]"
     ]
    },
    {
     "name": "stdout",
     "output_type": "stream",
     "text": [
      "train_loss : 0.4994 \t test_loss : 0.4392 \t score : 0.842\n"
     ]
    },
    {
     "name": "stderr",
     "output_type": "stream",
     "text": [
      "100%|██████████| 938/938 [00:08<00:00, 113.58it/s]\n",
      "100%|██████████| 157/157 [00:01<00:00, 122.65it/s]\n",
      "  1%|▏         | 13/938 [00:00<00:07, 126.79it/s]"
     ]
    },
    {
     "name": "stdout",
     "output_type": "stream",
     "text": [
      "train_loss : 0.3768 \t test_loss : 0.3998 \t score : 0.855\n"
     ]
    },
    {
     "name": "stderr",
     "output_type": "stream",
     "text": [
      "100%|██████████| 938/938 [00:08<00:00, 116.27it/s]\n",
      "100%|██████████| 157/157 [00:01<00:00, 129.25it/s]\n",
      "  1%|▏         | 12/938 [00:00<00:08, 115.71it/s]"
     ]
    },
    {
     "name": "stdout",
     "output_type": "stream",
     "text": [
      "train_loss : 0.3415 \t test_loss : 0.3871 \t score : 0.863\n"
     ]
    },
    {
     "name": "stderr",
     "output_type": "stream",
     "text": [
      "100%|██████████| 938/938 [00:08<00:00, 115.08it/s]\n",
      "100%|██████████| 157/157 [00:01<00:00, 127.37it/s]\n",
      "  1%|▏         | 13/938 [00:00<00:07, 119.85it/s]"
     ]
    },
    {
     "name": "stdout",
     "output_type": "stream",
     "text": [
      "train_loss : 0.3164 \t test_loss : 0.3714 \t score : 0.864\n"
     ]
    },
    {
     "name": "stderr",
     "output_type": "stream",
     "text": [
      "100%|██████████| 938/938 [00:08<00:00, 116.54it/s]\n",
      "100%|██████████| 157/157 [00:01<00:00, 127.96it/s]\n",
      "  1%|▏         | 12/938 [00:00<00:07, 118.26it/s]"
     ]
    },
    {
     "name": "stdout",
     "output_type": "stream",
     "text": [
      "train_loss : 0.2981 \t test_loss : 0.3685 \t score : 0.869\n"
     ]
    },
    {
     "name": "stderr",
     "output_type": "stream",
     "text": [
      "100%|██████████| 938/938 [00:08<00:00, 116.64it/s]\n",
      "100%|██████████| 157/157 [00:01<00:00, 121.05it/s]\n",
      "  1%|▏         | 12/938 [00:00<00:07, 115.82it/s]"
     ]
    },
    {
     "name": "stdout",
     "output_type": "stream",
     "text": [
      "train_loss : 0.2846 \t test_loss : 0.3469 \t score : 0.877\n"
     ]
    },
    {
     "name": "stderr",
     "output_type": "stream",
     "text": [
      "100%|██████████| 938/938 [00:08<00:00, 112.26it/s]\n",
      "100%|██████████| 157/157 [00:01<00:00, 131.84it/s]\n",
      "  1%|          | 9/938 [00:00<00:10, 88.34it/s]"
     ]
    },
    {
     "name": "stdout",
     "output_type": "stream",
     "text": [
      "train_loss : 0.2702 \t test_loss : 0.3501 \t score : 0.874\n"
     ]
    },
    {
     "name": "stderr",
     "output_type": "stream",
     "text": [
      "100%|██████████| 938/938 [00:08<00:00, 115.74it/s]\n",
      "100%|██████████| 157/157 [00:01<00:00, 122.65it/s]\n",
      "  1%|▏         | 13/938 [00:00<00:07, 122.85it/s]"
     ]
    },
    {
     "name": "stdout",
     "output_type": "stream",
     "text": [
      "train_loss : 0.2631 \t test_loss : 0.3678 \t score : 0.870\n"
     ]
    },
    {
     "name": "stderr",
     "output_type": "stream",
     "text": [
      "100%|██████████| 938/938 [00:08<00:00, 114.38it/s]\n",
      "100%|██████████| 157/157 [00:01<00:00, 130.13it/s]\n",
      "  1%|▏         | 13/938 [00:00<00:07, 121.51it/s]"
     ]
    },
    {
     "name": "stdout",
     "output_type": "stream",
     "text": [
      "train_loss : 0.2494 \t test_loss : 0.3504 \t score : 0.876\n"
     ]
    },
    {
     "name": "stderr",
     "output_type": "stream",
     "text": [
      "100%|██████████| 938/938 [00:08<00:00, 114.83it/s]\n",
      "100%|██████████| 157/157 [00:01<00:00, 123.41it/s]\n",
      "  1%|▏         | 13/938 [00:00<00:07, 123.33it/s]"
     ]
    },
    {
     "name": "stdout",
     "output_type": "stream",
     "text": [
      "train_loss : 0.2406 \t test_loss : 0.3625 \t score : 0.873\n"
     ]
    },
    {
     "name": "stderr",
     "output_type": "stream",
     "text": [
      "100%|██████████| 938/938 [00:07<00:00, 117.81it/s]\n",
      "100%|██████████| 157/157 [00:01<00:00, 127.16it/s]\n",
      "  1%|▏         | 12/938 [00:00<00:08, 114.71it/s]"
     ]
    },
    {
     "name": "stdout",
     "output_type": "stream",
     "text": [
      "train_loss : 0.2325 \t test_loss : 0.3439 \t score : 0.882\n"
     ]
    },
    {
     "name": "stderr",
     "output_type": "stream",
     "text": [
      "100%|██████████| 938/938 [00:08<00:00, 116.44it/s]\n",
      "100%|██████████| 157/157 [00:01<00:00, 127.05it/s]\n",
      "  1%|▏         | 12/938 [00:00<00:07, 117.48it/s]"
     ]
    },
    {
     "name": "stdout",
     "output_type": "stream",
     "text": [
      "train_loss : 0.2253 \t test_loss : 0.3659 \t score : 0.879\n"
     ]
    },
    {
     "name": "stderr",
     "output_type": "stream",
     "text": [
      "100%|██████████| 938/938 [00:08<00:00, 116.34it/s]\n",
      "100%|██████████| 157/157 [00:01<00:00, 124.95it/s]\n",
      "  1%|          | 11/938 [00:00<00:08, 109.64it/s]"
     ]
    },
    {
     "name": "stdout",
     "output_type": "stream",
     "text": [
      "train_loss : 0.2173 \t test_loss : 0.3429 \t score : 0.886\n"
     ]
    },
    {
     "name": "stderr",
     "output_type": "stream",
     "text": [
      "100%|██████████| 938/938 [00:08<00:00, 114.40it/s]\n",
      "100%|██████████| 157/157 [00:01<00:00, 126.85it/s]\n",
      "  1%|▏         | 12/938 [00:00<00:07, 118.82it/s]"
     ]
    },
    {
     "name": "stdout",
     "output_type": "stream",
     "text": [
      "train_loss : 0.2111 \t test_loss : 0.3566 \t score : 0.884\n"
     ]
    },
    {
     "name": "stderr",
     "output_type": "stream",
     "text": [
      "100%|██████████| 938/938 [00:08<00:00, 114.64it/s]\n",
      "100%|██████████| 157/157 [00:01<00:00, 123.50it/s]\n",
      "  1%|▏         | 12/938 [00:00<00:08, 112.18it/s]"
     ]
    },
    {
     "name": "stdout",
     "output_type": "stream",
     "text": [
      "train_loss : 0.2029 \t test_loss : 0.3595 \t score : 0.886\n"
     ]
    },
    {
     "name": "stderr",
     "output_type": "stream",
     "text": [
      "100%|██████████| 938/938 [00:08<00:00, 113.65it/s]\n",
      "100%|██████████| 157/157 [00:01<00:00, 124.17it/s]\n",
      "  1%|          | 10/938 [00:00<00:09, 98.38it/s]"
     ]
    },
    {
     "name": "stdout",
     "output_type": "stream",
     "text": [
      "train_loss : 0.1982 \t test_loss : 0.3728 \t score : 0.878\n"
     ]
    },
    {
     "name": "stderr",
     "output_type": "stream",
     "text": [
      "100%|██████████| 938/938 [00:08<00:00, 114.35it/s]\n",
      "100%|██████████| 157/157 [00:01<00:00, 121.82it/s]\n",
      "  1%|▏         | 12/938 [00:00<00:08, 112.08it/s]"
     ]
    },
    {
     "name": "stdout",
     "output_type": "stream",
     "text": [
      "train_loss : 0.1917 \t test_loss : 0.3516 \t score : 0.888\n"
     ]
    },
    {
     "name": "stderr",
     "output_type": "stream",
     "text": [
      "100%|██████████| 938/938 [00:08<00:00, 113.19it/s]\n",
      "100%|██████████| 157/157 [00:01<00:00, 130.27it/s]\n",
      "  1%|▏         | 12/938 [00:00<00:07, 116.82it/s]"
     ]
    },
    {
     "name": "stdout",
     "output_type": "stream",
     "text": [
      "train_loss : 0.1862 \t test_loss : 0.3546 \t score : 0.884\n"
     ]
    },
    {
     "name": "stderr",
     "output_type": "stream",
     "text": [
      "100%|██████████| 938/938 [00:08<00:00, 115.22it/s]\n",
      "100%|██████████| 157/157 [00:01<00:00, 121.97it/s]"
     ]
    },
    {
     "name": "stdout",
     "output_type": "stream",
     "text": [
      "train_loss : 0.1813 \t test_loss : 0.3676 \t score : 0.886\n",
      "Accuracy Score : 0.886\n"
     ]
    },
    {
     "name": "stderr",
     "output_type": "stream",
     "text": [
      "\n"
     ]
    }
   ],
   "source": [
    "'''\n",
    "DNN 실험해보기\n",
    "'''\n",
    "device = config['device']\n",
    "model = DNN(config['n_classes']).to(device)\n",
    "criterion = nn.CrossEntropyLoss()\n",
    "optimizer = optim.Adam(model.parameters(), lr = config['lr'])\n",
    "epochs = config['epochs']\n",
    "\n",
    "\n",
    "for epoch in range(1, epochs):\n",
    "    t_loss = train(model, trainloader, criterion, optimizer, device)\n",
    "    v_loss, score = validation(model, testloader, criterion, device)\n",
    "    print('train_loss : {:.4f} \\t test_loss : {:.4f} \\t score : {:.3f}'.format(t_loss, v_loss, score))\n",
    "print(\"Accuracy Score : {}\".format(score))"
   ]
  },
  {
   "cell_type": "markdown",
   "metadata": {},
   "source": [
    "# Result\n",
    "\n",
    "에폭 늘려서 추가 학습을 진행시킬 경우 CNN이 DNN보다 약 0.01정도 높음.   \n",
    "backend.ai pytorch-gpu 환경도 적응완료!"
   ]
  },
  {
   "cell_type": "code",
   "execution_count": null,
   "metadata": {},
   "outputs": [],
   "source": []
  }
 ],
 "metadata": {
  "kernelspec": {
   "display_name": "PyTorch 1.9 (NGC 21.03/Python 3.8 Conda) on Backend.AI",
   "language": "python",
   "name": "python3"
  },
  "language_info": {
   "codemirror_mode": {
    "name": "ipython",
    "version": 3
   },
   "file_extension": ".py",
   "mimetype": "text/x-python",
   "name": "python",
   "nbconvert_exporter": "python",
   "pygments_lexer": "ipython3",
   "version": "3.8.8"
  }
 },
 "nbformat": 4,
 "nbformat_minor": 5
}
